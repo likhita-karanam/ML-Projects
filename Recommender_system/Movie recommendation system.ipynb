{
 "cells": [
  {
   "cell_type": "code",
   "execution_count": 2,
   "metadata": {},
   "outputs": [],
   "source": [
    "#import the libraries\n",
    "import pandas as pd\n",
    "import numpy as np\n",
    "from sklearn.feature_extraction.text import CountVectorizer\n",
    "from sklearn.metrics.pairwise import cosine_similarity"
   ]
  },
  {
   "cell_type": "code",
   "execution_count": 3,
   "metadata": {},
   "outputs": [],
   "source": [
    "#import the dataset\n",
    "df = pd.read_csv(\"movie_dataset.csv\")"
   ]
  },
  {
   "cell_type": "code",
   "execution_count": 4,
   "metadata": {},
   "outputs": [],
   "source": [
    "features = ['keywords','cast','genres','director']"
   ]
  },
  {
   "cell_type": "code",
   "execution_count": 5,
   "metadata": {},
   "outputs": [],
   "source": [
    "#create a function for combining the values of these columns into a single string.\n",
    "def combine_features(row):\n",
    "    return row['keywords']+\" \"+row['cast']+\" \"+row['genres']+\" \"+row['director']\n"
   ]
  },
  {
   "cell_type": "code",
   "execution_count": 6,
   "metadata": {},
   "outputs": [],
   "source": [
    "#call this function over each row of our dataframe. \n",
    "#But, before doing that, we need to clean and preprocess the data for our use. \n",
    "#We will fill all the NaN values with blank string in the dataframe.\n",
    "for feature in features:\n",
    "    df[feature] = df[feature].fillna('') #filling all NaNs with blank string\n",
    "\n",
    "df[\"combined_features\"] = df.apply(combine_features,axis=1)"
   ]
  },
  {
   "cell_type": "code",
   "execution_count": 7,
   "metadata": {},
   "outputs": [
    {
     "data": {
      "text/plain": [
       "'culture clash future space war space colony society Sam Worthington Zoe Saldana Sigourney Weaver Stephen Lang Michelle Rodriguez Action Adventure Fantasy Science Fiction James Cameron'"
      ]
     },
     "execution_count": 7,
     "metadata": {},
     "output_type": "execute_result"
    }
   ],
   "source": [
    "df.iloc[0].combined_features"
   ]
  },
  {
   "cell_type": "code",
   "execution_count": 8,
   "metadata": {},
   "outputs": [],
   "source": [
    "cv = CountVectorizer() #creating new CountVectorizer() object\n",
    "count_matrix = cv.fit_transform(df[\"combined_features\"]) \n",
    "#feeding combined strings(movie contents) to CountVectorizer() object"
   ]
  },
  {
   "cell_type": "code",
   "execution_count": 9,
   "metadata": {},
   "outputs": [],
   "source": [
    "#Now, we need to obtain the cosine similarity matrix from the count matrix.\n",
    "cosine_sim = cosine_similarity(count_matrix)"
   ]
  },
  {
   "cell_type": "code",
   "execution_count": 10,
   "metadata": {},
   "outputs": [],
   "source": [
    "#Now, we will define two helper functions to get movie title from movie index and vice-versa.\n",
    "def get_title_from_index(index):\n",
    "    return df[df.index == index][\"title\"].values[0]\n",
    "def get_index_from_title(title):\n",
    "    return df[df.title == title][\"index\"].values[0]"
   ]
  },
  {
   "cell_type": "code",
   "execution_count": 11,
   "metadata": {},
   "outputs": [
    {
     "name": "stdout",
     "output_type": "stream",
     "text": [
      "0                                         Avatar\n",
      "1       Pirates of the Caribbean: At World's End\n",
      "2                                        Spectre\n",
      "3                          The Dark Knight Rises\n",
      "4                                    John Carter\n",
      "                          ...                   \n",
      "4798                                 El Mariachi\n",
      "4799                                   Newlyweds\n",
      "4800                   Signed, Sealed, Delivered\n",
      "4801                            Shanghai Calling\n",
      "4802                           My Date with Drew\n",
      "Name: original_title, Length: 4803, dtype: object\n",
      "enter the movie name from the above listSigned, Sealed, Delivered\n"
     ]
    }
   ],
   "source": [
    "print(df[\"original_title\"])\n",
    "movie_user_likes=input('enter the movie name from the above list')\n",
    "movie_index = get_index_from_title(movie_user_likes)\n",
    "similar_movies = list(enumerate(cosine_sim[movie_index]))"
   ]
  },
  {
   "cell_type": "code",
   "execution_count": 12,
   "metadata": {},
   "outputs": [],
   "source": [
    "#We will sort the list similar_movies according to similarity scores in descending order. \n",
    "#Since the most similar movie to a given movie will be itself, we will discard the first element after sorting the movies.\n",
    "sorted_similar_movies = sorted(similar_movies,key=lambda x:x[1],reverse=True)[1:]"
   ]
  },
  {
   "cell_type": "code",
   "execution_count": 13,
   "metadata": {},
   "outputs": [
    {
     "name": "stdout",
     "output_type": "stream",
     "text": [
      "The top 5 similar movies to Signed, Sealed, Delivered are the following:\n",
      "\n",
      "Me You and Five Bucks\n",
      "How to Fall in Love\n",
      "Four Weddings and a Funeral\n",
      "American Graffiti\n",
      "Love Actually\n",
      "Leaving Las Vegas\n"
     ]
    }
   ],
   "source": [
    "#we will run a loop to print first 5 entries from sorted_similar_movies list.\n",
    "i=0\n",
    "print(\"The top 5 similar movies to \"+movie_user_likes+\" are the following:\\n\")\n",
    "for element in sorted_similar_movies:\n",
    "    print(get_title_from_index(element[0]))\n",
    "    i=i+1\n",
    "    if i>5:\n",
    "        break"
   ]
  }
 ],
 "metadata": {
  "kernelspec": {
   "display_name": "Python 3",
   "language": "python",
   "name": "python3"
  },
  "language_info": {
   "codemirror_mode": {
    "name": "ipython",
    "version": 3
   },
   "file_extension": ".py",
   "mimetype": "text/x-python",
   "name": "python",
   "nbconvert_exporter": "python",
   "pygments_lexer": "ipython3",
   "version": "3.7.6"
  }
 },
 "nbformat": 4,
 "nbformat_minor": 4
}
